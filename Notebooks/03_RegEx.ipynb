{
 "cells": [
  {
   "cell_type": "code",
   "execution_count": 1,
   "id": "c074bcd1-edb0-4203-b09d-d4efa5be7f31",
   "metadata": {},
   "outputs": [],
   "source": [
    "import re"
   ]
  },
  {
   "cell_type": "code",
   "execution_count": 2,
   "id": "6ab7e95d-1a99-4609-9f29-203232733b0c",
   "metadata": {},
   "outputs": [],
   "source": [
    "text = \"\"\"Patient's phone number is 7321119999. \n",
    "Bill amount is 120$ and 45 dollars. \n",
    "Patient can go to our online portal www.Awesome1Hospital.com \n",
    "and pay the bill online.\"\"\""
   ]
  },
  {
   "cell_type": "code",
   "execution_count": 4,
   "id": "af6af46d-ab8a-4149-8bc2-4a01941f0ec3",
   "metadata": {},
   "outputs": [
    {
     "data": {
      "text/plain": [
       "['7321119999', '120', '45', '1']"
      ]
     },
     "execution_count": 4,
     "metadata": {},
     "output_type": "execute_result"
    }
   ],
   "source": [
    "# find all numbers\n",
    "pattern = r\"\\d+\"\n",
    "\n",
    "match = re.findall(pattern, text)\n",
    "match"
   ]
  },
  {
   "cell_type": "code",
   "execution_count": 6,
   "id": "ba1b9ce1-19cf-4e85-8453-f2c8ee8c2522",
   "metadata": {},
   "outputs": [
    {
     "data": {
      "text/plain": [
       "['7321119999']"
      ]
     },
     "execution_count": 6,
     "metadata": {},
     "output_type": "execute_result"
    }
   ],
   "source": [
    "# Extract only phone number. Phone number is always 10 digits\n",
    "pattern = r\"\\d{10}\"\n",
    "\n",
    "match = re.findall(pattern, text)\n",
    "match"
   ]
  },
  {
   "cell_type": "code",
   "execution_count": 13,
   "id": "0dbd5d32-f6ec-4350-9b4b-477704583a06",
   "metadata": {},
   "outputs": [
    {
     "data": {
      "text/plain": [
       "['(732)-111-9999', '7326664444']"
      ]
     },
     "execution_count": 13,
     "metadata": {},
     "output_type": "execute_result"
    }
   ],
   "source": [
    "# Extract phone number, which is either 10 continuous digits or follows this format (xxx)-xxx-xxxx\n",
    "\n",
    "text = \"Patient's phone no is (732)-111-9999, spouse phone number 7326664444. Bill amounts is 120$\"\n",
    "pattern = r\"\\(\\d{3}\\)-\\d{3}-\\d{4}|\\d{10}\"\n",
    "\n",
    "match = re.findall(pattern, text)\n",
    "match"
   ]
  },
  {
   "cell_type": "code",
   "execution_count": 16,
   "id": "71856b9c-3752-4eb4-8dc2-40244b067bed",
   "metadata": {},
   "outputs": [
    {
     "name": "stdout",
     "output_type": "stream",
     "text": [
      "<re.Match object; span=(22, 53), match='7321564895. Bill amount is 120$'>\n"
     ]
    }
   ],
   "source": [
    "# Extract phone number and bill amount separately\n",
    "\n",
    "text = \"Patient's phone no is 7321564895. Bill amount is 120$\"\n",
    "\n",
    "pattern = r\"(\\d{10})\\D+(\\d+)\\$\"\n",
    "\n",
    "match = re.search(pattern, text)\n",
    "print(match)"
   ]
  },
  {
   "cell_type": "code",
   "execution_count": 17,
   "id": "9afe42c2-3251-4a4d-9fc6-095e6f869c1d",
   "metadata": {},
   "outputs": [
    {
     "data": {
      "text/plain": [
       "('7321564895', '120')"
      ]
     },
     "execution_count": 17,
     "metadata": {},
     "output_type": "execute_result"
    }
   ],
   "source": [
    "match.groups()"
   ]
  },
  {
   "cell_type": "code",
   "execution_count": 18,
   "id": "492a6fa7-9e55-4bee-98d3-c33252290303",
   "metadata": {},
   "outputs": [
    {
     "name": "stdout",
     "output_type": "stream",
     "text": [
      "Phone no: 7321564895\n",
      "Bill amount: 120\n"
     ]
    }
   ],
   "source": [
    "phone_number, bill_amount = match.groups()\n",
    "print(f\"Phone no: {phone_number}\")\n",
    "print(f\"Bill amount: {bill_amount}\")"
   ]
  },
  {
   "cell_type": "code",
   "execution_count": 48,
   "id": "b3825fc4-4d54-4743-a253-30be05e6f1cb",
   "metadata": {},
   "outputs": [],
   "source": [
    "text = \"\"\"\n",
    "Dr John Smith, M.D\n",
    "\n",
    "2 Non-Important street,\n",
    "New York, Phone (900)-12123- ~2222\n",
    "\n",
    "Name:  Virat Kohli Date: 2/05/2022\n",
    "\n",
    "Address: 2 cricket blvd, New Delhi\n",
    "\n",
    "| Omeprazole 40 mg\n",
    "\n",
    "Directions: Use two tablets daily for three months\n",
    "\n",
    "Refill: 3 times\"\"\""
   ]
  },
  {
   "cell_type": "code",
   "execution_count": 26,
   "id": "628f5792-e4b3-45d6-bc8d-6821f13f572c",
   "metadata": {},
   "outputs": [
    {
     "data": {
      "text/plain": [
       "'Marta Sharapova'"
      ]
     },
     "execution_count": 26,
     "metadata": {},
     "output_type": "execute_result"
    }
   ],
   "source": [
    "# Extract name\n",
    "pattern = r\"Name:(.*)Date\"\n",
    "\n",
    "re.findall(pattern, text)[0].strip()"
   ]
  },
  {
   "cell_type": "code",
   "execution_count": 28,
   "id": "e4812d69-de81-4908-ae97-6284d4a99235",
   "metadata": {},
   "outputs": [
    {
     "data": {
      "text/plain": [
       "[' 9 tennis court, new Russia, DC']"
      ]
     },
     "execution_count": 28,
     "metadata": {},
     "output_type": "execute_result"
    }
   ],
   "source": [
    "# Extract address\n",
    "pattern = r\"Address:(.*)\\n\"\n",
    "\n",
    "address = re.findall(pattern, text)\n",
    "address"
   ]
  },
  {
   "cell_type": "code",
   "execution_count": 49,
   "id": "111955c9-ea7e-40ca-b5ed-f9f2e1ae2bdf",
   "metadata": {},
   "outputs": [
    {
     "name": "stdout",
     "output_type": "stream",
     "text": [
      "| Omeprazole 40 mg\n"
     ]
    }
   ],
   "source": [
    "# Extract medicines\n",
    "pattern = \"Address:[^\\n]*(.*)Directions\"\n",
    "match = re.findall(pattern, text, flags=re.DOTALL)\n",
    "print(match[0].strip())"
   ]
  },
  {
   "cell_type": "code",
   "execution_count": 50,
   "id": "b5b816ab-2978-4bec-8c9d-7952e893baff",
   "metadata": {},
   "outputs": [
    {
     "ename": "IndexError",
     "evalue": "list index out of range",
     "output_type": "error",
     "traceback": [
      "\u001b[1;31m---------------------------------------------------------------------------\u001b[0m",
      "\u001b[1;31mIndexError\u001b[0m                                Traceback (most recent call last)",
      "Cell \u001b[1;32mIn[50], line 4\u001b[0m\n\u001b[0;32m      2\u001b[0m pattern \u001b[38;5;241m=\u001b[39m \u001b[38;5;124mr\u001b[39m\u001b[38;5;124m\"\u001b[39m\u001b[38;5;124mDirections:\u001b[39m\u001b[38;5;124m\\\u001b[39m\u001b[38;5;124mn(.*)Refill\u001b[39m\u001b[38;5;124m\"\u001b[39m\n\u001b[0;32m      3\u001b[0m match \u001b[38;5;241m=\u001b[39m re\u001b[38;5;241m.\u001b[39mfindall(pattern, text, flags\u001b[38;5;241m=\u001b[39mre\u001b[38;5;241m.\u001b[39mDOTALL)\n\u001b[1;32m----> 4\u001b[0m \u001b[38;5;28mprint\u001b[39m(\u001b[43mmatch\u001b[49m\u001b[43m[\u001b[49m\u001b[38;5;241;43m0\u001b[39;49m\u001b[43m]\u001b[49m\u001b[38;5;241m.\u001b[39mstrip())\n",
      "\u001b[1;31mIndexError\u001b[0m: list index out of range"
     ]
    }
   ],
   "source": [
    "# Extract directions\n",
    "pattern = r\"Directions:\\n(.*)Refill\"\n",
    "match = re.findall(pattern, text, flags=re.DOTALL)\n",
    "print(match[0].strip())"
   ]
  },
  {
   "cell_type": "code",
   "execution_count": 47,
   "id": "b09617f2-e9b1-471f-9b98-4b129cfb6670",
   "metadata": {},
   "outputs": [
    {
     "name": "stdout",
     "output_type": "stream",
     "text": [
      "2\n"
     ]
    }
   ],
   "source": [
    "# Extract refill info\n",
    "pattern = r\"Refill:.*(\\d).*times\"\n",
    "match = re.findall(pattern, text)\n",
    "print(eval(match[0].strip()))"
   ]
  },
  {
   "cell_type": "code",
   "execution_count": 26,
   "id": "1044b289-6fad-4381-a3c4-bc282a877e5c",
   "metadata": {},
   "outputs": [],
   "source": [
    "text_1 = \"\"\"\n",
    "17/12/2020\n",
    "\n",
    "Patient Medical Record\n",
    "\n",
    "Patient Information Birth Date\n",
    "Jerry Lucas May 2 1998\n",
    "(279) 920-8204 \" Weight:\n",
    "4218 Wheeler Ridge Dr $7\n",
    "anaes 14201 Height:\n",
    "\n",
    "In Case of Emergency\n",
    "meee\n",
    "\n",
    "Joe Lucas 4218 Wheeler Ridge Dr\n",
    "Buffalo, New York, 14201\n",
    "Home phone United States\n",
    "Work phone\n",
    "\n",
    "General Medical History\n",
    "\n",
    "Chicken Pox (Varicelia): Measles:\n",
    "\n",
    "IMMUNE NOT IMMUNE\n",
    "Have you had the Hepatitis B vaccination?\n",
    "Yes ,\n",
    "\n",
    "List any Medical Problems (asthma, seizures, headaches):\n",
    "N/A\n",
    "\n",
    "abc\"\"\"\n",
    "\n",
    "text_2 = \"\"\"\n",
    "17/12/2020\n",
    "\n",
    "Patient Medical Record\n",
    "\n",
    "Patient Information Birth Date\n",
    "\n",
    "Kathy Crawford May 6 1972\n",
    "\n",
    "(737) 988-0851 Weight’\n",
    "\n",
    "9264 Ash Dr 95\n",
    "\n",
    "New York City, 10005 ‘\n",
    "\n",
    "United States Height\n",
    "190\n",
    "\n",
    "In Case of Emergency\n",
    "ee\n",
    "Simeone Crawford 9266 Ash Dr\n",
    "H New York City, New York, 10005\n",
    "ome phone United States\n",
    "(990) 375-4621\n",
    "Work phone\n",
    "Genera! Medical History\n",
    "_\n",
    "\n",
    "eS I ee\n",
    "\n",
    "ne\n",
    "\n",
    "a enna\n",
    "\n",
    "Chicken Pox (Varicella): Measies:\n",
    "\n",
    "IMMUNE IMMUNE\n",
    "\n",
    "Have you had the Hepatitis B vaccination?\n",
    "\n",
    "No\n",
    "\n",
    "List any Medical Problems (asthma, seizures, headaches):\n",
    "\n",
    "Migraine\n",
    "\n",
    "abc\"\"\""
   ]
  },
  {
   "cell_type": "code",
   "execution_count": 5,
   "id": "6a6a1620-84cb-491b-bcf7-2b390b394da8",
   "metadata": {},
   "outputs": [
    {
     "name": "stdout",
     "output_type": "stream",
     "text": [
      "['Kathy Crawford']\n"
     ]
    }
   ],
   "source": [
    "# name\n",
    "name_pattern = \"Date\\n+([a-zA-Z]+\\s+[a-zA-Z]+).\\D{3}\"\n",
    "matches = re.findall(name_pattern, text_2)\n",
    "print(matches)"
   ]
  },
  {
   "cell_type": "code",
   "execution_count": 6,
   "id": "77934bc3-b217-44c5-a1c3-6b44ee47e847",
   "metadata": {},
   "outputs": [
    {
     "name": "stdout",
     "output_type": "stream",
     "text": [
      "['Jerry Lucas']\n"
     ]
    }
   ],
   "source": [
    "name_pattern = \"Date\\n+([a-zA-Z]+\\s+[a-zA-Z]+).\\D{3}\"\n",
    "matches = re.findall(name_pattern, text_1)\n",
    "print(matches)"
   ]
  },
  {
   "cell_type": "code",
   "execution_count": 8,
   "id": "23e15705-7ddf-4b4b-aad0-f35dde0194ca",
   "metadata": {},
   "outputs": [
    {
     "name": "stdout",
     "output_type": "stream",
     "text": [
      "['(279) 920-8204']\n",
      "['(737) 988-0851']\n"
     ]
    }
   ],
   "source": [
    "# phone number\n",
    "phone_pattern = \"(\\(\\d{3}\\).\\d{3}.\\d{4}).+Weight\"\n",
    "for text in [text_1, text_2]:\n",
    "    matches = re.findall(phone_pattern, text)\n",
    "    print(matches)"
   ]
  },
  {
   "cell_type": "code",
   "execution_count": 10,
   "id": "6f676260-b275-443b-a4a6-a2030241d3cc",
   "metadata": {},
   "outputs": [
    {
     "name": "stdout",
     "output_type": "stream",
     "text": [
      "['Yes']\n",
      "['No']\n"
     ]
    }
   ],
   "source": [
    "# vaccination status\n",
    "v_status_pattern = \"vaccination\\?\\n+(Yes|No)\"\n",
    "for text in [text_1, text_2]:\n",
    "    matches = re.findall(v_status_pattern, text)\n",
    "    print(matches)"
   ]
  },
  {
   "cell_type": "code",
   "execution_count": 30,
   "id": "94e89448-69c3-4caa-a1ab-3d60dcb23b2c",
   "metadata": {},
   "outputs": [
    {
     "name": "stdout",
     "output_type": "stream",
     "text": [
      "['N/A\\n']\n",
      "['Migraine\\n']\n"
     ]
    }
   ],
   "source": [
    "# Medical problem\n",
    "med_problem_pattern = \"headaches\\):\\n+(\\D+)\\n\"\n",
    "for text in [text_1, text_2]:\n",
    "    matches = re.findall(med_problem_pattern, text)\n",
    "    print(matches)"
   ]
  }
 ],
 "metadata": {
  "kernelspec": {
   "display_name": "Python 3 (ipykernel)",
   "language": "python",
   "name": "python3"
  },
  "language_info": {
   "codemirror_mode": {
    "name": "ipython",
    "version": 3
   },
   "file_extension": ".py",
   "mimetype": "text/x-python",
   "name": "python",
   "nbconvert_exporter": "python",
   "pygments_lexer": "ipython3",
   "version": "3.11.5"
  }
 },
 "nbformat": 4,
 "nbformat_minor": 5
}
